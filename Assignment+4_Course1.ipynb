{
 "cells": [
  {
   "cell_type": "markdown",
   "metadata": {},
   "source": [
    "---\n",
    "\n",
    "_You are currently looking at **version 1.1** of this notebook. To download notebooks and datafiles, as well as get help on Jupyter notebooks in the Coursera platform, visit the [Jupyter Notebook FAQ](https://www.coursera.org/learn/python-data-analysis/resources/0dhYG) course resource._\n",
    "\n",
    "---"
   ]
  },
  {
   "cell_type": "code",
   "execution_count": 1,
   "metadata": {
    "collapsed": true
   },
   "outputs": [],
   "source": [
    "import pandas as pd\n",
    "import numpy as np\n",
    "from scipy.stats import ttest_ind"
   ]
  },
  {
   "cell_type": "markdown",
   "metadata": {},
   "source": [
    "# Assignment 4 - Hypothesis Testing\n",
    "This assignment requires more individual learning than previous assignments - you are encouraged to check out the [pandas documentation](http://pandas.pydata.org/pandas-docs/stable/) to find functions or methods you might not have used yet, or ask questions on [Stack Overflow](http://stackoverflow.com/) and tag them as pandas and python related. And of course, the discussion forums are open for interaction with your peers and the course staff.\n",
    "\n",
    "Definitions:\n",
    "* A _quarter_ is a specific three month period, Q1 is January through March, Q2 is April through June, Q3 is July through September, Q4 is October through December.\n",
    "* A _recession_ is defined as starting with two consecutive quarters of GDP decline, and ending with two consecutive quarters of GDP growth.\n",
    "* A _recession bottom_ is the quarter within a recession which had the lowest GDP.\n",
    "* A _university town_ is a city which has a high percentage of university students compared to the total population of the city.\n",
    "\n",
    "**Hypothesis**: University towns have their mean housing prices less effected by recessions. Run a t-test to compare the ratio of the mean price of houses in university towns the quarter before the recession starts compared to the recession bottom. (`price_ratio=quarter_before_recession/recession_bottom`)\n",
    "\n",
    "The following data files are available for this assignment:\n",
    "* From the [Zillow research data site](http://www.zillow.com/research/data/) there is housing data for the United States. In particular the datafile for [all homes at a city level](http://files.zillowstatic.com/research/public/City/City_Zhvi_AllHomes.csv), ```City_Zhvi_AllHomes.csv```, has median home sale prices at a fine grained level.\n",
    "* From the Wikipedia page on college towns is a list of [university towns in the United States](https://en.wikipedia.org/wiki/List_of_college_towns#College_towns_in_the_United_States) which has been copy and pasted into the file ```university_towns.txt```.\n",
    "* From Bureau of Economic Analysis, US Department of Commerce, the [GDP over time](http://www.bea.gov/national/index.htm#gdp) of the United States in current dollars (use the chained value in 2009 dollars), in quarterly intervals, in the file ```gdplev.xls```. For this assignment, only look at GDP data from the first quarter of 2000 onward.\n",
    "\n",
    "Each function in this assignment below is worth 10%, with the exception of ```run_ttest()```, which is worth 50%."
   ]
  },
  {
   "cell_type": "code",
   "execution_count": 2,
   "metadata": {
    "collapsed": true
   },
   "outputs": [],
   "source": [
    "# Use this dictionary to map state names to two letter acronyms\n",
    "states = {'OH': 'Ohio', 'KY': 'Kentucky', 'AS': 'American Samoa', 'NV': 'Nevada', 'WY': 'Wyoming', 'NA': 'National', 'AL': 'Alabama', 'MD': 'Maryland', 'AK': 'Alaska', 'UT': 'Utah', 'OR': 'Oregon', 'MT': 'Montana', 'IL': 'Illinois', 'TN': 'Tennessee', 'DC': 'District of Columbia', 'VT': 'Vermont', 'ID': 'Idaho', 'AR': 'Arkansas', 'ME': 'Maine', 'WA': 'Washington', 'HI': 'Hawaii', 'WI': 'Wisconsin', 'MI': 'Michigan', 'IN': 'Indiana', 'NJ': 'New Jersey', 'AZ': 'Arizona', 'GU': 'Guam', 'MS': 'Mississippi', 'PR': 'Puerto Rico', 'NC': 'North Carolina', 'TX': 'Texas', 'SD': 'South Dakota', 'MP': 'Northern Mariana Islands', 'IA': 'Iowa', 'MO': 'Missouri', 'CT': 'Connecticut', 'WV': 'West Virginia', 'SC': 'South Carolina', 'LA': 'Louisiana', 'KS': 'Kansas', 'NY': 'New York', 'NE': 'Nebraska', 'OK': 'Oklahoma', 'FL': 'Florida', 'CA': 'California', 'CO': 'Colorado', 'PA': 'Pennsylvania', 'DE': 'Delaware', 'NM': 'New Mexico', 'RI': 'Rhode Island', 'MN': 'Minnesota', 'VI': 'Virgin Islands', 'NH': 'New Hampshire', 'MA': 'Massachusetts', 'GA': 'Georgia', 'ND': 'North Dakota', 'VA': 'Virginia'}"
   ]
  },
  {
   "cell_type": "code",
   "execution_count": 3,
   "metadata": {
    "collapsed": true,
    "scrolled": false
   },
   "outputs": [],
   "source": [
    "def read_allhomes():\n",
    "    allhomes=pd.read_csv('City_Zhvi_AllHomes.csv')\n",
    "    return allhomes\n",
    "\n",
    "def read_univtowns():\n",
    "    univtowns=pd.read_csv('university_towns.txt', sep='/t')\n",
    "    return univtowns\n",
    "# read_univtowns()\n",
    "\n",
    "def read_gdp_an():\n",
    "    GDP_an=pd.read_excel('gdplev.xls', index_col=0, usecols=[0,1], header=5).dropna()\n",
    "    return GDP_an\n",
    "#read_gdp_an()\n",
    "\n",
    "def read_gdp_qrt():\n",
    "    GDP_qrt=pd.read_excel('gdplev.xls', index_col=4, header=5).drop(['GDP in billions of current dollars', \n",
    "                                                'Unnamed: 3', 'GDP in billions of chained 2009 dollars',\n",
    "                                                'Unnamed: 2','Unnamed: 6'],axis=1).dropna()\n",
    "    GDP_qrt=GDP_qrt.loc['2000q1':]\n",
    "    return GDP_qrt"
   ]
  },
  {
   "cell_type": "code",
   "execution_count": 4,
   "metadata": {
    "umich_part_id": "021",
    "umich_partlist_id": "004"
   },
   "outputs": [
    {
     "data": {
      "text/html": [
       "<div>\n",
       "<table border=\"1\" class=\"dataframe\">\n",
       "  <thead>\n",
       "    <tr style=\"text-align: right;\">\n",
       "      <th></th>\n",
       "      <th>State</th>\n",
       "      <th>RegionName</th>\n",
       "    </tr>\n",
       "  </thead>\n",
       "  <tbody>\n",
       "    <tr>\n",
       "      <th>0</th>\n",
       "      <td>Alabama</td>\n",
       "      <td>Auburn</td>\n",
       "    </tr>\n",
       "    <tr>\n",
       "      <th>1</th>\n",
       "      <td>Alabama</td>\n",
       "      <td>Florence</td>\n",
       "    </tr>\n",
       "    <tr>\n",
       "      <th>2</th>\n",
       "      <td>Alabama</td>\n",
       "      <td>Jacksonville</td>\n",
       "    </tr>\n",
       "    <tr>\n",
       "      <th>3</th>\n",
       "      <td>Alabama</td>\n",
       "      <td>Livingston</td>\n",
       "    </tr>\n",
       "    <tr>\n",
       "      <th>4</th>\n",
       "      <td>Alabama</td>\n",
       "      <td>Montevallo</td>\n",
       "    </tr>\n",
       "  </tbody>\n",
       "</table>\n",
       "</div>"
      ],
      "text/plain": [
       "     State    RegionName\n",
       "0  Alabama        Auburn\n",
       "1  Alabama      Florence\n",
       "2  Alabama  Jacksonville\n",
       "3  Alabama    Livingston\n",
       "4  Alabama    Montevallo"
      ]
     },
     "execution_count": 4,
     "metadata": {},
     "output_type": "execute_result"
    }
   ],
   "source": [
    "def get_list_of_university_towns():\n",
    "    '''Returns a DataFrame of towns and the states they are in from the \n",
    "    university_towns.txt list. The format of the DataFrame should be:\n",
    "    DataFrame( [ [\"Michigan\", \"Ann Arbor\"], [\"Michigan\", \"Yipsilanti\"] ], \n",
    "    columns=[\"State\", \"RegionName\"]  )\n",
    "    \n",
    "    The following cleaning needs to be done:\n",
    "\n",
    "    1. For \"State\", removing characters from \"[\" to the end.\n",
    "    2. For \"RegionName\", when applicable, removing every character from \" (\" to the end.\n",
    "    3. Depending on how you read the data, you may need to remove newline character '\\n'. '''\n",
    "\n",
    "    values = []\n",
    "    with open('university_towns.txt') as file:\n",
    "        lines = file.readlines()\n",
    "\n",
    "    for line in lines:\n",
    "        if '[edit]' in line:\n",
    "            current_state = line[:-7]\n",
    "        else:\n",
    "            line=line[:line.find('(')]\n",
    "            values.append((current_state, line))\n",
    "\n",
    "    df=pd.DataFrame(['State', 'RegionName'])\n",
    "    df=pd.DataFrame(values, columns=['State', 'RegionName'])\n",
    "    df['RegionName']=df['RegionName'].str.strip()\n",
    "    #df=df.set_index([\"State\", \"RegionName\"])\n",
    "    return df\n",
    "\n",
    "get_list_of_university_towns().head()"
   ]
  },
  {
   "cell_type": "code",
   "execution_count": 5,
   "metadata": {
    "umich_part_id": "022",
    "umich_partlist_id": "004"
   },
   "outputs": [
    {
     "data": {
      "text/plain": [
       "'2008q3'"
      ]
     },
     "execution_count": 5,
     "metadata": {},
     "output_type": "execute_result"
    }
   ],
   "source": [
    "def get_recession_start():\n",
    "    '''Returns the year and quarter of the recession start time as a \n",
    "    string value in a format such as 2005q3'''\n",
    "    GDP_qrt=read_gdp_qrt()\n",
    "    GDP_diff=GDP_qrt['GDP in billions of current dollars.1'].diff()\n",
    "    \n",
    "    for i, qrt in enumerate(GDP_diff.index):\n",
    "        if (GDP_diff.iloc[i+1]<0) and (GDP_diff.iloc[i+2]<0):\n",
    "            #print('Recession starts from {}'.format(qrt))\n",
    "            return qrt\n",
    "    return None\n",
    "\n",
    "get_recession_start()"
   ]
  },
  {
   "cell_type": "code",
   "execution_count": 6,
   "metadata": {
    "collapsed": true
   },
   "outputs": [],
   "source": [
    "# %matplotlib inline\n",
    "# GDP_qrt=read_gdp_qrt()\n",
    "# GDP_qrt.loc['2007q2':'2010q2'].plot()"
   ]
  },
  {
   "cell_type": "code",
   "execution_count": 7,
   "metadata": {
    "umich_part_id": "023",
    "umich_partlist_id": "004"
   },
   "outputs": [
    {
     "data": {
      "text/plain": [
       "'2009q4'"
      ]
     },
     "execution_count": 7,
     "metadata": {},
     "output_type": "execute_result"
    }
   ],
   "source": [
    "def get_recession_end():\n",
    "    '''Returns the year and quarter of the recession end time as a \n",
    "    string value in a format such as 2005q3'''\n",
    "    GDP_qrt=read_gdp_qrt()\n",
    "    GDP_qrt=GDP_qrt.loc[get_recession_start():]\n",
    "    GDP_diff=GDP_qrt['GDP in billions of current dollars.1'].diff()\n",
    "    for i, qrt in enumerate(GDP_diff.index):\n",
    "        if (GDP_diff.iloc[i-1]>0) and (GDP_diff.iloc[i]>0):\n",
    "            #print('Recession starts from {}'.format(qrt))\n",
    "            return qrt\n",
    "    return None\n",
    "get_recession_end()"
   ]
  },
  {
   "cell_type": "code",
   "execution_count": 8,
   "metadata": {
    "umich_part_id": "024",
    "umich_partlist_id": "004"
   },
   "outputs": [
    {
     "data": {
      "text/plain": [
       "'2009q2'"
      ]
     },
     "execution_count": 8,
     "metadata": {},
     "output_type": "execute_result"
    }
   ],
   "source": [
    "def get_recession_bottom():\n",
    "    '''Returns the year and quarter of the recession bottom time as a \n",
    "    string value in a format such as 2005q3'''\n",
    "    GDP_qrt=read_gdp_qrt()\n",
    "    start_quarter = get_recession_start()\n",
    "    end_quarter = get_recession_end()\n",
    "    return GDP_qrt.loc[start_quarter:end_quarter,'GDP in billions of current dollars.1'].idxmin()\n",
    "get_recession_bottom()"
   ]
  },
  {
   "cell_type": "code",
   "execution_count": 9,
   "metadata": {
    "umich_part_id": "025",
    "umich_partlist_id": "004"
   },
   "outputs": [
    {
     "data": {
      "text/plain": [
       "(10730, 67)"
      ]
     },
     "execution_count": 9,
     "metadata": {},
     "output_type": "execute_result"
    }
   ],
   "source": [
    "def convert_housing_data_to_quarters():\n",
    "    '''Converts the housing data to quarters and returns it as mean \n",
    "    values in a dataframe. This dataframe should be a dataframe with\n",
    "    columns for 2000q1 through 2016q3, and should have a multi-index\n",
    "    in the shape of [\"State\",\"RegionName\"].\n",
    "    \n",
    "    Note: Quarters are defined in the assignment description, they are\n",
    "    not arbitrary three month periods.\n",
    "    \n",
    "    The resulting dataframe should have 67 columns, and 10,730 rows.\n",
    "    '''\n",
    "    allhomes=pd.read_csv('City_Zhvi_AllHomes.csv')\n",
    "\n",
    "    allhomes['State'].replace(states, inplace = True)\n",
    "    allhomes=allhomes.set_index(['State','RegionName'])\n",
    "\n",
    "    #start_todrop=allhomes.columns.get_loc('1996-04')#\n",
    "    end_todrop=allhomes.columns.get_loc('1999-12')\n",
    "    allhomes=allhomes.drop(list(allhomes.columns[0:end_todrop+1]),axis=1)\n",
    "\n",
    "    def quarters(col):\n",
    "        if col.endswith((\"01\", \"02\", \"03\")):\n",
    "            s = col[:4] + \"q1\"\n",
    "        elif col.endswith((\"04\", \"05\", \"06\")):\n",
    "            s = col[:4] + \"q2\"\n",
    "        elif col.endswith((\"07\", \"08\", \"09\")):\n",
    "            s = col[:4] + \"q3\"\n",
    "        else:\n",
    "            s = col[:4] + \"q4\"\n",
    "        return s\n",
    "\n",
    "    column_quarters=[]\n",
    "    for col in allhomes.columns.values:\n",
    "        column_quarters.append(quarters(col))\n",
    "\n",
    "    allhomes.columns=column_quarters\n",
    "    allhomes=allhomes.groupby(allhomes.columns, axis=1).mean()\n",
    "\n",
    "    return allhomes.sort_index()\n",
    "convert_housing_data_to_quarters().shape"
   ]
  },
  {
   "cell_type": "code",
   "execution_count": 28,
   "metadata": {
    "umich_part_id": "026",
    "umich_partlist_id": "004"
   },
   "outputs": [
    {
     "data": {
      "text/plain": [
       "(True, 0.0027240637047531249, 'university town')"
      ]
     },
     "execution_count": 28,
     "metadata": {},
     "output_type": "execute_result"
    }
   ],
   "source": [
    "def run_ttest():\n",
    "    '''First creates new data showing the decline or growth of housing prices\n",
    "    between the recession start and the recession bottom. Then runs a ttest\n",
    "    comparing the university town values to the non-university towns values, \n",
    "    return whether the alternative hypothesis (that the two groups are the same)\n",
    "    is true or not as well as the p-value of the confidence. \n",
    "    \n",
    "    Return the tuple (different, p, better) where different=True if the t-test is\n",
    "    True at a p<0.01 (we reject the null hypothesis), or different=False if \n",
    "    otherwise (we cannot reject the null hypothesis). The variable p should\n",
    "    be equal to the exact p value returned from scipy.stats.ttest_ind(). The\n",
    "    value for better should be either \"university town\" or \"non-university town\"\n",
    "    depending on which has a lower mean price ratio (which is equivilent to a\n",
    "    reduced market loss).'''\n",
    "    houses=convert_housing_data_to_quarters()\n",
    "\n",
    "    recession_start_int=houses.columns.get_loc(get_recession_start())\n",
    "    year_before = houses.columns[recession_start_int-1]\n",
    "    bottom=get_recession_bottom()\n",
    "\n",
    "    all_houses_price=pd.concat([houses[year_before],houses[bottom]], axis=1, keys=[year_before,bottom])\n",
    "    all_houses_price['Price Ratio']=all_houses_price[year_before].div(all_houses_price[bottom])\n",
    "    \n",
    "    university_towns=get_list_of_university_towns()\n",
    "    university_towns=university_towns.set_index(['State','RegionName'])\n",
    "\n",
    "    university_houses = pd.merge(university_towns,all_houses_price, how='inner', left_index=True, right_index=True)\n",
    "    non_university_houses=all_houses_price[~all_houses_price.index.isin(university_houses.index)]\n",
    "    \n",
    "    t_stat, p_value = ttest_ind(university_houses['Price Ratio'],\n",
    "                                      non_university_houses['Price Ratio'], nan_policy='omit')\n",
    "    p0=0.01\n",
    "    if t_stat < p0:\n",
    "        different=True\n",
    "    else:\n",
    "        different=False\n",
    "       \n",
    "    if t_stat < 0:\n",
    "        better='university town'\n",
    "    else:\n",
    "        better='non-university town'    \n",
    "    \n",
    "    return different, p_value, better\n",
    "run_ttest()"
   ]
  },
  {
   "cell_type": "markdown",
   "metadata": {},
   "source": [
    "houses=convert_housing_data_to_quarters()\n",
    "\n",
    "recession_start_int=houses.columns.get_loc(get_recession_start())\n",
    "year_before = houses.columns[recession_start_int-1]\n",
    "bottom=get_recession_bottom()\n",
    "\n",
    "all_houses_price=pd.concat([houses[year_before],houses[bottom]], axis=1, keys=[year_before,bottom])\n",
    "all_houses_price['Price Ratio']=all_houses_price[year_before].div(all_houses_price[bottom])\n",
    "all_houses_price.shape\n"
   ]
  },
  {
   "cell_type": "markdown",
   "metadata": {},
   "source": [
    "university_towns=get_list_of_university_towns()\n",
    "university_towns=university_towns.set_index(['State','RegionName'])\n",
    "\n",
    "university_houses = pd.merge(university_towns,all_houses_price, how='inner', left_index=True, right_index=True)\n",
    "\n",
    "non_university_houses=all_houses_price[~all_houses_price.index.isin(university_houses.index)]\n",
    "#university_housing = pd.merge(university_towns, housing, how = \"inner\",\n",
    "                                 # left_index = True, right_index = True)\n",
    "#non_university_housing = housing[~housing.index.isin(university_housing.index)]\n",
    "#non_university_housing.head()\n",
    "#university_houses.shape"
   ]
  },
  {
   "cell_type": "markdown",
   "metadata": {},
   "source": [
    "print(non_university_houses.shape)\n",
    "t_stat, p_value = ttest_ind(university_houses['Price Ratio'],\n",
    "                                      non_university_houses['Price Ratio'], nan_policy='omit')\n",
    "p0=0.01\n",
    "if t_stat < p0:\n",
    "    different=True\n",
    "    better='university town'\n",
    "else:\n",
    "    different=False\n",
    "    better='non-university town'\n",
    "better"
   ]
  },
  {
   "cell_type": "markdown",
   "metadata": {},
   "source": [
    "m1=university_houses['Price Ratio'].mean()\n",
    "var1=(university_houses['Price Ratio'].std())**2\n",
    "n1=len(university_houses)\n",
    "m2=non_university_houses['Price Ratio'].mean()\n",
    "var2=(non_university_houses['Price Ratio'].std())**2\n",
    "n2=len(non_university_houses)\n",
    "t_stat=(m1-m2)/np.sqrt(var1/n1+var2/n2)"
   ]
  }
 ],
 "metadata": {
  "coursera": {
   "course_slug": "python-data-analysis",
   "graded_item_id": "Il9Fx",
   "launcher_item_id": "TeDW0",
   "part_id": "WGlun"
  },
  "kernelspec": {
   "display_name": "Python 3",
   "language": "python",
   "name": "python3"
  },
  "language_info": {
   "codemirror_mode": {
    "name": "ipython",
    "version": 3
   },
   "file_extension": ".py",
   "mimetype": "text/x-python",
   "name": "python",
   "nbconvert_exporter": "python",
   "pygments_lexer": "ipython3",
   "version": "3.6.2"
  },
  "umich": {
   "id": "Assignment 4",
   "version": "1.1"
  }
 },
 "nbformat": 4,
 "nbformat_minor": 1
}
